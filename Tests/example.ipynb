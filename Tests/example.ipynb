{
 "cells": [
  {
   "cell_type": "code",
   "execution_count": 2,
   "metadata": {},
   "outputs": [],
   "source": [
    "from SPARQLWrapper import SPARQLWrapper, JSON, DIGEST, BASIC, CSV"
   ]
  },
  {
   "cell_type": "code",
   "execution_count": 37,
   "metadata": {},
   "outputs": [],
   "source": [
    "sparql = SPARQLWrapper(\n",
    "    \"https://lov.linkeddata.es/dataset/lov/sparql\"\n",
    ")\n",
    "#sparql.setReturnFormat(JSON)"
   ]
  },
  {
   "cell_type": "code",
   "execution_count": 38,
   "metadata": {},
   "outputs": [],
   "source": [
    "# sparql.setHTTPAuth(DIGEST)\n",
    "# sparql.setCredentials(\"dba\", \"mysecret\")\n",
    "sparql.setReturnFormat(JSON)"
   ]
  },
  {
   "cell_type": "code",
   "execution_count": 123,
   "metadata": {},
   "outputs": [],
   "source": [
    "sparql.setQuery(\"\"\"\n",
    "PREFIX rdf: <http://www.w3.org/1999/02/22-rdf-syntax-ns#>\n",
    "PREFIX rdfs: <http://www.w3.org/2000/01/rdf-schema#>\n",
    "PREFIX td: <https://www.w3.org/2019/wot/td#>\n",
    "PREFIX facility: <https://cogito.iot.linkeddata.es/def/facility#>\n",
    "PREFIX process: <https://cogito.iot.linkeddata.es/def/process#>\n",
    "PREFIX props: <https://w3id.org/props#>\n",
    "SELECT ?project ?elem ?elemId ?td ?fileHref WHERE {\n",
    "    SERVICE <https://data.cogito.iot.linkeddata.es/sparql> {\n",
    "        ?project rdf:type facility:Project .\n",
    "    \t?project facility:projectID ?id .\n",
    "    \t?project facility:isRelatedToProcess ?process .\n",
    "        ?process process:hasTask ?task .\n",
    "        ?task facility:isRelatedTo ?elem .\n",
    "    \t?elem props:hasCompressedGuid ?elemId .\n",
    "    }\n",
    "    SERVICE <https://data.cogito.iot.linkeddata.es/tdd/api/search/sparql> {\n",
    "    \tBIND(URI(concat('https://data.cogito.iot.linkeddata.es/tdd/api/things/',?elemId)) AS ?td) .\n",
    "        ?td a td:Thing .\n",
    "        ?td td:type 'facility:Element' .\n",
    "        ?td td:hasPropertyAffordance ?fileProperty .\n",
    "        ?fileProperty td:name 'platform:hasFile' .\n",
    "        ?fileProperty td:hasForm ?formFile .\n",
    "        ?formFile td:type ?type .\n",
    "        IF(?type = 'ifc', ?formFile, ?null) .\n",
    "        IF(?type = 'image', ?formFile, ?null) .\n",
    "        ?formFile td:href ?fileHref .\n",
    "    } \n",
    "} LIMIT 10\n",
    "\n",
    "    \"\"\"\n",
    ")"
   ]
  },
  {
   "cell_type": "code",
   "execution_count": 124,
   "metadata": {},
   "outputs": [
    {
     "name": "stdout",
     "output_type": "stream",
     "text": [
      "byte indices must be integers or slices, not str\n"
     ]
    },
    {
     "name": "stderr",
     "output_type": "stream",
     "text": [
      "/Users/salva/.pyenv/versions/3.10.2/Library/Frameworks/Python.framework/Versions/3.10/lib/python3.10/site-packages/SPARQLWrapper/Wrapper.py:1215: RuntimeWarning: unknown response content type 'text/plain;charset=UTF-8' returning raw response...\n",
      "  warnings.warn(\n"
     ]
    }
   ],
   "source": [
    "try:\n",
    "    ret = sparql.queryAndConvert()\n",
    "\n",
    "    for r in ret[\"results\"][\"bindings\"]:\n",
    "        print(r)\n",
    "except Exception as e:\n",
    "    print(e)"
   ]
  },
  {
   "cell_type": "code",
   "execution_count": null,
   "metadata": {},
   "outputs": [],
   "source": []
  }
 ],
 "metadata": {
  "kernelspec": {
   "display_name": "Python 3",
   "language": "python",
   "name": "python3"
  },
  "language_info": {
   "codemirror_mode": {
    "name": "ipython",
    "version": 3
   },
   "file_extension": ".py",
   "mimetype": "text/x-python",
   "name": "python",
   "nbconvert_exporter": "python",
   "pygments_lexer": "ipython3",
   "version": "3.10.2"
  },
  "orig_nbformat": 4,
  "vscode": {
   "interpreter": {
    "hash": "a9c44c8ff930b067c6bc3f134a348d3cb9f19f01dfb46c39e0c18c228169b636"
   }
  }
 },
 "nbformat": 4,
 "nbformat_minor": 2
}
